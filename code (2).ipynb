{
  "nbformat": 4,
  "nbformat_minor": 0,
  "metadata": {
    "colab": {
      "name": "code",
      "provenance": [],
      "collapsed_sections": []
    },
    "kernelspec": {
      "name": "python3",
      "display_name": "Python 3"
    },
    "language_info": {
      "name": "python"
    }
  },
  "cells": [
    {
      "cell_type": "code",
      "source": [
        "import calendar  \n",
        "# ask of month and year  \n",
        "yy = int(input(\"Enter year: \"))  \n",
        "mm = int(input(\"Enter month: \"))  \n",
        "# display the calendar  \n",
        "print(calendar.month(yy,mm))  "
      ],
      "metadata": {
        "id": "uSI5NIagblfk"
      },
      "execution_count": null,
      "outputs": []
    }
  ]
}